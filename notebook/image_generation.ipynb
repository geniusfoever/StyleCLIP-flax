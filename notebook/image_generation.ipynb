{
  "nbformat": 4,
  "nbformat_minor": 0,
  "metadata": {
    "colab": {
      "name": "StyleGAN2 Flax TPU  - Image generation",
      "provenance": []
    },
    "kernelspec": {
      "name": "python3",
      "display_name": "Python 3"
    },
    "language_info": {
      "name": "python"
    }
  },
  "cells": [
    {
      "cell_type": "markdown",
      "source": [
        "# StyleGAN2 Flax TPU  - Image generation"
      ],
      "metadata": {
        "id": "wH5tE-g44D6u"
      }
    },
    {
      "cell_type": "markdown",
      "source": [
        "# Setup 🧰\n"
      ],
      "metadata": {
        "id": "bgfpQisDRvPL"
      }
    },
    {
      "cell_type": "code",
      "source": [
        "!git clone https://github.com/nyx-ai/stylegan2-flax-tpu\n",
        "%cd stylegan2-flax-tpu"
      ],
      "metadata": {
        "id": "h9Mpo6VqRS5h"
      },
      "execution_count": null,
      "outputs": []
    },
    {
      "cell_type": "code",
      "source": [
        "%%capture\n",
        "!pip install -r requirements_colab.txt"
      ],
      "metadata": {
        "id": "oHdFBePw5dPI"
      },
      "execution_count": null,
      "outputs": []
    },
    {
      "cell_type": "markdown",
      "source": [
        "## Download the pretrained models ⬇️"
      ],
      "metadata": {
        "id": "R9GcZs_4iZs2"
      }
    },
    {
      "cell_type": "code",
      "source": [
        "# Single-class 256x256 models\n",
        "!wget -q --show-progress \"https://github.com/nyx-ai/stylegan2-flax-tpu/releases/download/v0.1/cookie-256.pkl\"\n",
        "!wget -q --show-progress \"https://github.com/nyx-ai/stylegan2-flax-tpu/releases/download/v0.1/sushi-256.pkl\"\n",
        "!wget -q --show-progress \"https://github.com/nyx-ai/stylegan2-flax-tpu/releases/download/v0.1/cocktail-256.pkl\"\n",
        "!wget -q --show-progress \"https://github.com/nyx-ai/stylegan2-flax-tpu/releases/download/v0.1/cheesecake-256.pkl\""
      ],
      "metadata": {
        "id": "A04syzP8irCL"
      },
      "execution_count": null,
      "outputs": []
    },
    {
      "cell_type": "code",
      "source": [
        "# 5-class 512x512 model\n",
        "!wget -q --show-progress \"https://github.com/nyx-ai/stylegan2-flax-tpu/releases/download/v0.2/food-512.pkl\""
      ],
      "metadata": {
        "id": "8Wt4I5avdtTa"
      },
      "execution_count": null,
      "outputs": []
    },
    {
      "cell_type": "markdown",
      "source": [
        "## Let's generate some food! 🍪🍰🍣🍹"
      ],
      "metadata": {
        "id": "NhRBAyFFOoLH"
      }
    },
    {
      "cell_type": "markdown",
      "source": [
        "### Single-class 256x256 models"
      ],
      "metadata": {
        "id": "p4MUVT0kddW2"
      }
    },
    {
      "cell_type": "code",
      "source": [
        "!python generate_images.py \\\n",
        "   --checkpoint cookie-256.pkl \\\n",
        "   --seeds 555 \\\n",
        "   --truncation_psi 0.7 \\\n",
        "   --out_path generated_images/cookie"
      ],
      "metadata": {
        "id": "7P8fU33L2MsK"
      },
      "execution_count": null,
      "outputs": []
    },
    {
      "cell_type": "code",
      "source": [
        "!python generate_images.py \\\n",
        "   --checkpoint sushi-256.pkl \\\n",
        "   --seeds 31 42 420 108 \\\n",
        "   --truncation_psi 0.7 \\\n",
        "   --out_path generated_images/sushi"
      ],
      "metadata": {
        "id": "BJsP4SH43lFL"
      },
      "execution_count": null,
      "outputs": []
    },
    {
      "cell_type": "code",
      "source": [
        "!python generate_images.py \\\n",
        "   --checkpoint cocktail-256.pkl \\\n",
        "   --seeds 7 19 21 33 \\\n",
        "   --truncation_psi 0.7 \\\n",
        "   --out_path generated_images/cocktail"
      ],
      "metadata": {
        "id": "btI9g13R3lYA"
      },
      "execution_count": null,
      "outputs": []
    },
    {
      "cell_type": "code",
      "source": [
        "!python generate_images.py \\\n",
        "   --checkpoint cheesecake-256.pkl \\\n",
        "   --seeds 4 8 15 74 \\\n",
        "   --truncation_psi 0.5 \\\n",
        "   --out_path generated_images/cheesecake"
      ],
      "metadata": {
        "id": "z9E3bgDw3lv9"
      },
      "execution_count": null,
      "outputs": []
    },
    {
      "cell_type": "markdown",
      "source": [
        "## 5-class 512x512 model"
      ],
      "metadata": {
        "id": "EqLxJI6zdnUj"
      }
    },
    {
      "cell_type": "code",
      "source": [
        "!python generate_images.py \\\n",
        "   --checkpoint food-512.pkl \\\n",
        "   --seeds 1 2 3 4 \\\n",
        "   --truncation_psi 0.5 \\\n",
        "   --out_path generated_images/cookie"
      ],
      "metadata": {
        "id": "PVRIowmmdp-K"
      },
      "execution_count": null,
      "outputs": []
    }
  ]
}